{
 "cells": [
  {
   "cell_type": "code",
   "execution_count": 175,
   "id": "57a63b3b",
   "metadata": {},
   "outputs": [],
   "source": [
    "from selenium import webdriver #importe do selenium webdriver \"controlador\" de site\n",
    "from selenium.webdriver.firefox.options import Options #import do controlador especifico do firefox\n",
    "from selenium.webdriver.common.by import By\n",
    "from bs4 import BeautifulSoup\n",
    "from selenium.webdriver.common.keys import Keys\n",
    "from selenium.common.exceptions import NoSuchElementException\n",
    "from selenium.webdriver import ActionChains\n",
    "import time #biblioteca para adicionar um tempo de espera \n"
   ]
  },
  {
   "cell_type": "code",
   "execution_count": 176,
   "id": "ac633da8",
   "metadata": {},
   "outputs": [],
   "source": [
    "\n",
    "#instacinado o bot \n",
    "options = Options()# instancinado \n",
    "options.binary_location = r\"C:/Program Files/Mozilla Firefox/firefox.exe\"#adicionando o caminho do navagado ao codigo\n",
    "driver = webdriver.Firefox(options=options, executable_path=\"C:/Users/dougl/Desktop/estudar/projetos/bot/geckodriver.exe\")#adiconando o caminho do controlador de navegador\n",
    "\n"
   ]
  },
  {
   "cell_type": "code",
   "execution_count": 177,
   "id": "57e3348a",
   "metadata": {},
   "outputs": [],
   "source": [
    "link='https://www.google.com.br/maps/place/'\n",
    "local = 'paque pedra da cebola'\n",
    "#link = link+local"
   ]
  },
  {
   "cell_type": "code",
   "execution_count": 178,
   "id": "c99c6e3a",
   "metadata": {},
   "outputs": [],
   "source": [
    "def acess(link):\n",
    "  elemento=driver.get(link)\n",
    "  return elemento\n",
    "\n",
    "def local(link):\n",
    "  time.sleep(30)\n",
    "  elemento=driver.find_element_by_xpath(r'/html/body/div[3]/div[9]/div[3]/div[1]/div[1]/div[1]/div[2]/form/div/div[3]/div/input[1]').send_keys('paque pedra da cebola')\n",
    "  elemento=driver.find_element_by_xpath(r'/html/body/div[3]/div[9]/div[3]/div[1]/div[1]/div[1]/div[2]/form/div/div[3]/div/input[1]').send_keys(Keys.ENTER)\n",
    "  return elemento\n",
    "\n",
    "\n",
    "def restaurantes(link):\n",
    "  elemento=driver.find_element_by_xpath(r'/html/body/div[3]/div[9]/div[5]/div/div/div/div[1]/div/div/div/div/div[1]/div/button/span[1]').click()\n",
    "  elemento=driver.find_element_by_xpath(r'/html/body/div[3]/div[9]/div[8]/div/div[1]/div/div/div[4]/div[1]')\n",
    "  print(elemento)\n",
    "  return elemento"
   ]
  },
  {
   "cell_type": "code",
   "execution_count": 179,
   "id": "3dbe1ab0",
   "metadata": {},
   "outputs": [
    {
     "name": "stdout",
     "output_type": "stream",
     "text": [
      "acessando restaurantes#\n",
      "<selenium.webdriver.firefox.webelement.FirefoxWebElement (session=\"72454cf8-ed57-4972-984d-e1fbb5dc57e4\", element=\"55eccbea-083c-4a43-976f-f3bca8584ea1\")>\n"
     ]
    },
    {
     "data": {
      "text/plain": [
       "<selenium.webdriver.firefox.webelement.FirefoxWebElement (session=\"72454cf8-ed57-4972-984d-e1fbb5dc57e4\", element=\"55eccbea-083c-4a43-976f-f3bca8584ea1\")>"
      ]
     },
     "execution_count": 179,
     "metadata": {},
     "output_type": "execute_result"
    }
   ],
   "source": [
    "acess(link)\n",
    "local(link)\n",
    "print('acessando restaurantes#')\n",
    "time.sleep(10) \n",
    "restaurantes(link)"
   ]
  },
  {
   "cell_type": "code",
   "execution_count": 180,
   "id": "67201504",
   "metadata": {},
   "outputs": [],
   "source": [
    "time.sleep(30)\n",
    "\n",
    "#dados=driver.find_element_by_xpath('/html/body/div[3]/div[9]/div[8]/div/div[1]/div/div/div[4]')\n",
    "dados=driver.find_element_by_css_selector('div.siAUzd-neVct:nth-child(4)')"
   ]
  },
  {
   "cell_type": "code",
   "execution_count": 181,
   "id": "55044d81",
   "metadata": {},
   "outputs": [],
   "source": [
    "html=dados.get_attribute(\"innerHTML\")"
   ]
  },
  {
   "cell_type": "code",
   "execution_count": 182,
   "id": "8870989b",
   "metadata": {},
   "outputs": [
    {
     "name": "stdout",
     "output_type": "stream",
     "text": [
      "<div aria-label=\"Resultados para Restaurantes\" class=\"siAUzd-neVct section-scrollbox cYB2Ge-oHo7ed cYB2Ge-ti6hGc siAUzd-neVct-Q3DXx-BvBYQ\" jsan=\"t-dgE5uNmzjiE,7.siAUzd-neVct,7.section-scrollbox,7.cYB2Ge-oHo7ed,7.cYB2Ge-ti6hGc,7.siAUzd-neVct-Q3DXx-BvBYQ,7.siAUzd-neVct-YbohUe-bnBfGc,0.aria-label,0.role,0.tabindex\" jstcache=\"788\" role=\"region\" tabindex=\"-1\"><div jstcache=\"1521\"><div class=\"V0h1Ob-haAclf OPZbO-KE6vqe o0s21d-HiaYvf\" jsaction=\"mouseover:pane.wfvdle57;mouseout:pane.wfvdle57\" jsan=\"7.V0h1Ob-haAclf,7.OPZbO-KE6vqe,7.o0s21d-HiaYvf,0.jsaction\" jstcache=\"1433\"><a aria-label=\"El Libertador\" class=\"a4gq8e-aVTXAb-haAclf-jRmmHf-hSRGPd\" href=\"https://www.google.com.br/maps/place/El+Libertador/data=!4m5!3m4!1s0xb819f5f6ed209b:0xe2a3a9b9131a875!8m2!3d-20.2738253!4d-40.2959189?authuser=0&amp;hl=pt-BR&amp;rclk=1\" jsaction=\"pane.wfvdle57;focus:pane.wfvdle57;blur:pane.wfvdle57;auxclick:pane.wfvdle57;contextmenu:pane.wfvdle57;keydown:pane.wfvdle57;clickmod:pane.wfvdle57\" jsan=\"7.a4gq8e-aVTXAb-haAclf-jRmmHf-hSRGPd,0.aria-label,8.href,0.jsaction\" jstcache=\"1434\"></a><div class=\"CJY91c-jRmmHf-aVTXAb-haAclf-WFkMr\" jstcache=\"1435\"></div><div aria-label=\"El Libertador\" class=\"MVVflb-haAclf V0h1Ob-haAclf-d6wfac MVVflb-haAclf-uxVfW-hSRGPd\" jsan=\"7.MVVflb-haAclf,7.V0h1Ob-haAclf-d6wfac,7.MVVflb-haAclf-uxVfW-hSRGPd,0.aria-label\" jstcache=\"1436\"><div class=\"CJY91c-jRmmHf-aVTXAb-haAclf-bIWrp\" jstcache=\"1437\"></div><div class=\"lI9IFe\"><div class=\"CJY91c-jRmmHf-aVTXAb-haAclf-HSrbLb\" jstcache=\"1438\"><div class=\"RnEfrd-jRmmHf-HSrbLb B9Hcub-QFlW2\" jsan=\"t-pdDsP4P8DQQ,7.RnEfrd-jRmmHf-HSrbLb,7.B9Hcub-QFlW2\" jstcache=\"1523\"><button jstcache=\"1451\" style=\"display:none\"></button><div class=\"Z8fK3b\" jsan=\"7.Z8fK3b,t-MjeqqY5XOdM\" jstcache=\"1452\"> <div class=\"CUwbzc-content gm2-body-2\"> <div class=\"qBF1Pd-haAclf\"> <div class=\"qBF1Pd gm2-subtitle-alt-1\" jsan=\"7.qBF1Pd,7.gm2-subtitle-alt-1,t-u3p6PfXaXm4\" jstcache=\"1454\"> <span jstcache=\"1467\">El Libertador</span> </div> <h1 jstcache=\"1455\" style=\"display:none\"></h1> <span class=\"RnEfrd-jRmmHf-HSrbLb-title-badge-haAclf\"></span> </div> <div class=\"section-subtitle-extension\" jstcache=\"1456\"></div> <div class=\"ZY2y6b-RWgCYc\" jsan=\"7.ZY2y6b-RWgCYc,t-hEqDOx2FFV0\" jstcache=\"1457\"> <div class=\"OEvfgc-wcwwM-haAclf\"> <span class=\"RnEfrd-jRmmHf-HSrbLb-wPzPJb-badge-haAclf\" jstcache=\"1469\"></span> <span class=\"gm2-body-2\" jsan=\"t-CJ3Gw1VPbAA,7.gm2-body-2\" jstcache=\"1470\"><span jstcache=\"1365\" style=\"display:none\"></span><span aria-label=\" 4,7 estrelas  576 comentários  \" class=\"ZkP5Je\" jsan=\"7.ZkP5Je,0.aria-label,0.role,t-kqtGnPs-9G0\" jstcache=\"1366\" role=\"img\"><span aria-hidden=\"true\" class=\"MW4etd\" jsan=\"7.MW4etd,0.aria-hidden\" jstcache=\"1369\">4,7</span><div jstcache=\"1370\" style=\"display:none\"></div><div class=\"QBUL8c\" jsan=\"7.QBUL8c\" jsinstance=\"0\" jstcache=\"1371\"></div><div class=\"QBUL8c\" jsan=\"7.QBUL8c\" jsinstance=\"1\" jstcache=\"1371\"></div><div class=\"QBUL8c\" jsan=\"7.QBUL8c\" jsinstance=\"2\" jstcache=\"1371\"></div><div class=\"QBUL8c\" jsan=\"7.QBUL8c\" jsinstance=\"3\" jstcache=\"1371\"></div><div class=\"QBUL8c cXOKEb-S62Q7b\" jsan=\"7.QBUL8c,7.cXOKEb-S62Q7b\" jsinstance=\"*4\" jstcache=\"1371\"></div><span class=\"UY7F9\" jsan=\"7.UY7F9\" jstcache=\"1372\">(576)</span></span></span> <span jsinstance=\"*0\" jstcache=\"1471\"> <jsl jstcache=\"1472\"> <span aria-hidden=\"true\">·</span> <span jstcache=\"1475\">$$</span> </jsl> </span> </div> </div> <div class=\"ZY2y6b-RWgCYc\"> <span jstcache=\"1458\" style=\"display:none\"></span> <div class=\"ZY2y6b-RWgCYc\" jsinstance=\"0\" jstcache=\"1459\"> <span jsinstance=\"0\" jstcache=\"1460\"> <jsl jstcache=\"1461\"> <span jstcache=\"1477\" style=\"display:none\">·</span> <span jstcache=\"1478\">Restaurante</span> </jsl> </span><span jsinstance=\"*1\" jstcache=\"1460\"> <jsl jstcache=\"1461\"> <span aria-hidden=\"true\" class=\"bXlT7b-hgDUwe\" jsan=\"7.bXlT7b-hgDUwe,0.aria-hidden\" jstcache=\"1477\">·</span> <span jstcache=\"1478\">Av. Carlos Gomes de Sá, 500 - 03</span> </jsl> </span> </div><div class=\"ZY2y6b-RWgCYc\" jsinstance=\"1\" jstcache=\"1459\"> <span jsinstance=\"*0\" jstcache=\"1460\"> <jsl jstcache=\"1461\"> <span jstcache=\"1477\" style=\"display:none\">·</span> <span jstcache=\"1478\">Comidas e música em espaço sul-americano</span> </jsl> </span> </div><div class=\"ZY2y6b-RWgCYc\" jsinstance=\"*2\" jstcache=\"1459\"> <span jsinstance=\"*0\" jstcache=\"1460\"> <jsl jstcache=\"1461\"> <span jstcache=\"1477\" style=\"display:none\">·</span> <span jstcache=\"1478\">Aberto até às 01:00</span> </jsl> </span> </div> </div> </div> </div></div></div><div class=\"CJY91c-jRmmHf-aVTXAb-haAclf-JIbuQc\" jstcache=\"1439\"></div><div class=\"CJY91c-jRmmHf-aVTXAb-haAclf-HiaYvf\" jstcache=\"1440\"><div class=\"xwpmRb qisNDe\" jsan=\"t-PLs0ILPSy_c,7.xwpmRb,7.qisNDe,5.width,5.height,5.margin-top,5.margin-bottom,5.margin-left,5.margin-right\" jstcache=\"1522\" style=\"width: 84px; height: 84px; margin: 0px;\"><div class=\"Vig8jf-haAclf p0Hhde\" jsan=\"7.p0Hhde,7.Vig8jf-haAclf,5.min-width,5.min-height\" jstcache=\"1445\" style=\"min-width:84px;min-height:84px\"><img aria-hidden=\"true\" decoding=\"async\" src=\"https://lh5.googleusercontent.com/p/AF1QipNBPvZ1GU40nF0tSBS52wUo378UnSmBA9LvkuMq=w189-h92-k-no\" style=\"position: absolute; top: 50%;left: 50%;width: 173px;height: 84px;-webkit-transform: translateY(-50%) translateX(-50%);transform: translateY(-50%) translateX(-50%);\"/></div><button jstcache=\"1446\" style=\"display:none\"></button><div class=\"badge-container\"></div></div></div><div class=\"CJY91c-jRmmHf-aVTXAb-haAclf-hxbzzc\" jstcache=\"1441\"></div></div><div class=\"CJY91c-jRmmHf-aVTXAb-haAclf-IoWfhc\" jstcache=\"1442\"><div class=\"j5hhj-QFlW2\" jstcache=\"1419\" role=\"presentation\" style=\"height: 8px;\">  </div><div class=\"n8sPKe YhB09d\" jsan=\"t-6LUHkvXz3so,7.n8sPKe,7.YhB09d\" jstcache=\"1524\"> <div jstcache=\"1480\" style=\"display:none\"></div> <div class=\"Ahnjwc gm2-body-2\" jsan=\"7.Ahnjwc,7.gm2-body-2\" jstcache=\"1481\"> <div aria-label=\"Refeição no local\" class=\"W6VQef\" jsan=\"7.W6VQef,0.aria-label,0.role\" jsinstance=\"0\" jstcache=\"1482\" role=\"group\"> <div jstcache=\"1483\" style=\"display:none\"></div> <div class=\"W6VQef-content\"> <span jsan=\"5.font-weight\" jsinstance=\"*0\" jstcache=\"1484\" style=\"font-weight:400\">Refeição no local</span> </div> <span aria-hidden=\"true\" class=\"W6VQef-hgDUwe\" jsan=\"7.W6VQef-hgDUwe,0.aria-hidden\" jstcache=\"1485\">·</span> </div><div aria-label=\"Para viagem\" class=\"W6VQef\" jsan=\"7.W6VQef,0.aria-label,0.role\" jsinstance=\"1\" jstcache=\"1482\" role=\"group\"> <div jstcache=\"1483\" style=\"display:none\"></div> <div class=\"W6VQef-content\"> <span jsan=\"5.font-weight\" jsinstance=\"*0\" jstcache=\"1484\" style=\"font-weight:400\">Para viagem</span> </div> <span aria-hidden=\"true\" class=\"W6VQef-hgDUwe\" jsan=\"7.W6VQef-hgDUwe,0.aria-hidden\" jstcache=\"1485\">·</span> </div><div aria-label=\"Entrega sem contato\" class=\"W6VQef\" jsan=\"7.W6VQef,0.aria-label,0.role\" jsinstance=\"*2\" jstcache=\"1482\" role=\"group\"> <div jstcache=\"1483\" style=\"display:none\"></div> <div class=\"W6VQef-content\"> <span jsan=\"5.font-weight\" jsinstance=\"*0\" jstcache=\"1484\" style=\"font-weight:400\">Entrega sem contato</span> </div> <span jstcache=\"1485\" style=\"display:none\">·</span> </div> <div class=\"mo2FTb-p83tee-haAclf\" jstcache=\"1486\"></div> </div> </div></div></div></div></div><div class=\"TFQHme\" jsan=\"t-CuMADJaQITk,7.TFQHme\" jstcache=\"1525\"></div><div jstcache=\"1521\"><div class=\"V0h1Ob-haAclf OPZbO-KE6vqe o0s21d-HiaYvf\" jsaction=\"mouseover:pane.wfvdle60;mouseout:pane.wfvdle60\" jsan=\"7.V0h1Ob-haAclf,7.OPZbO-KE6vqe,7.o0s21d-HiaYvf,0.jsaction\" jstcache=\"1433\"><a aria-label=\"Baruk\" class=\"a4gq8e-aVTXAb-haAclf-jRmmHf-hSRGPd\" href=\"https://www.google.com.br/maps/place/Baruk/data=!4m5!3m4!1s0xb81810ad3cc541:0x693435a04f16567d!8m2!3d-20.2732025!4d-40.2935463?authuser=0&amp;hl=pt-BR&amp;rclk=1\" jsaction=\"pane.wfvdle60;focus:pane.wfvdle60;blur:pane.wfvdle60;auxclick:pane.wfvdle60;contextmenu:pane.wfvdle60;keydown:pane.wfvdle60;clickmod:pane.wfvdle60\" jsan=\"7.a4gq8e-aVTXAb-haAclf-jRmmHf-hSRGPd,0.aria-label,8.href,0.jsaction\" jstcache=\"1434\"></a><div class=\"CJY91c-jRmmHf-aVTXAb-haAclf-WFkMr\" jstcache=\"1435\"></div><div aria-label=\"Baruk\" class=\"MVVflb-haAclf V0h1Ob-haAclf-d6wfac MVVflb-haAclf-uxVfW-hSRGPd\" jsan=\"7.MVVflb-haAclf,7.V0h1Ob-haAclf-d6wfac,7.MVVflb-haAclf-uxVfW-hSRGPd,0.aria-label\" jstcache=\"1436\"><div class=\"CJY91c-jRmmHf-aVTXAb-haAclf-bIWrp\" jstcache=\"1437\"></div><div class=\"lI9IFe\"><div class=\"CJY91c-jRmmHf-aVTXAb-haAclf-HSrbLb\" jstcache=\"1438\"><div class=\"RnEfrd-jRmmHf-HSrbLb B9Hcub-QFlW2\" jsan=\"t-pdDsP4P8DQQ,7.RnEfrd-jRmmHf-HSrbLb,7.B9Hcub-QFlW2\" jstcache=\"1523\"><button jstcache=\"1451\" style=\"display:none\"></button><div class=\"Z8fK3b\" jsan=\"7.Z8fK3b,t-MjeqqY5XOdM\" jstcache=\"1452\"> <div class=\"CUwbzc-content gm2-body-2\"> <div class=\"qBF1Pd-haAclf\"> <div class=\"qBF1Pd gm2-subtitle-alt-1\" jsan=\"7.qBF1Pd,7.gm2-subtitle-alt-1,t-u3p6PfXaXm4\" jstcache=\"1454\"> <span jstcache=\"1467\">Baruk</span> </div> <h1 jstcache=\"1455\" style=\"display:none\"></h1> <span class=\"RnEfrd-jRmmHf-HSrbLb-title-badge-haAclf\"></span> </div> <div class=\"section-subtitle-extension\" jstcache=\"1456\"></div> <div class=\"ZY2y6b-RWgCYc\" jsan=\"7.ZY2y6b-RWgCYc,t-hEqDOx2FFV0\" jstcache=\"1457\"> <div class=\"OEvfgc-wcwwM-haAclf\"> <span class=\"RnEfrd-jRmmHf-HSrbLb-wPzPJb-badge-haAclf\" jstcache=\"1469\"></span> <span class=\"gm2-body-2\" jsan=\"t-CJ3Gw1VPbAA,7.gm2-body-2\" jstcache=\"1470\"><span jstcache=\"1365\" style=\"display:none\"></span><span aria-label=\" 4,7 estrelas  103 comentários  \" class=\"ZkP5Je\" jsan=\"7.ZkP5Je,0.aria-label,0.role,t-kqtGnPs-9G0\" jstcache=\"1366\" role=\"img\"><span aria-hidden=\"true\" class=\"MW4etd\" jsan=\"7.MW4etd,0.aria-hidden\" jstcache=\"1369\">4,7</span><div jstcache=\"1370\" style=\"display:none\"></div><div class=\"QBUL8c\" jsan=\"7.QBUL8c\" jsinstance=\"0\" jstcache=\"1371\"></div><div class=\"QBUL8c\" jsan=\"7.QBUL8c\" jsinstance=\"1\" jstcache=\"1371\"></div><div class=\"QBUL8c\" jsan=\"7.QBUL8c\" jsinstance=\"2\" jstcache=\"1371\"></div><div class=\"QBUL8c\" jsan=\"7.QBUL8c\" jsinstance=\"3\" jstcache=\"1371\"></div><div class=\"QBUL8c cXOKEb-S62Q7b\" jsan=\"7.QBUL8c,7.cXOKEb-S62Q7b\" jsinstance=\"*4\" jstcache=\"1371\"></div><span class=\"UY7F9\" jsan=\"7.UY7F9\" jstcache=\"1372\">(103)</span></span></span> <span jstcache=\"1471\" style=\"display:none\"> <jsl jstcache=\"1472\" style=\"display:none\"></jsl> </span> </div> </div> <div class=\"ZY2y6b-RWgCYc\"> <span jstcache=\"1458\" style=\"display:none\"></span> <div class=\"ZY2y6b-RWgCYc\" jsinstance=\"0\" jstcache=\"1459\"> <span jsinstance=\"0\" jstcache=\"1460\"> <jsl jstcache=\"1461\"> <span jstcache=\"1477\" style=\"display:none\">·</span> <span jstcache=\"1478\">Libanesa</span> </jsl> </span><span jsinstance=\"*1\" jstcache=\"1460\"> <jsl jstcache=\"1461\"> <span aria-hidden=\"true\" class=\"bXlT7b-hgDUwe\" jsan=\"7.bXlT7b-hgDUwe,0.aria-hidden\" jstcache=\"1477\">·</span> <span jstcache=\"1478\">Shopping Boulevard - Av. Rosendo Serapião de Souza Filho, 691 - 02/03</span> </jsl> </span> </div><div class=\"ZY2y6b-RWgCYc\" jsinstance=\"*1\" jstcache=\"1459\"> <span jsinstance=\"*0\" jstcache=\"1460\"> <jsl jstcache=\"1461\"> <span jstcache=\"1477\" style=\"display:none\">·</span> <span jstcache=\"1478\">Fecha às 00:00</span> </jsl> </span> </div> </div> </div> </div></div></div><div class=\"CJY91c-jRmmHf-aVTXAb-haAclf-JIbuQc\" jstcache=\"1439\"></div><div class=\"CJY91c-jRmmHf-aVTXAb-haAclf-HiaYvf\" jstcache=\"1440\"><div class=\"xwpmRb qisNDe\" jsan=\"t-PLs0ILPSy_c,7.xwpmRb,7.qisNDe,5.width,5.height,5.margin-top,5.margin-bottom,5.margin-left,5.margin-right\" jstcache=\"1522\" style=\"width: 84px; height: 84px; margin: 0px;\"><div class=\"Vig8jf-haAclf p0Hhde\" jsan=\"7.p0Hhde,7.Vig8jf-haAclf,5.min-width,5.min-height\" jstcache=\"1445\" style=\"min-width:84px;min-height:84px\"><img aria-hidden=\"true\" decoding=\"async\" src=\"https://lh5.googleusercontent.com/p/AF1QipNcqf6VPe06GMQhMErWJQ-VF9Hwzev7kpNhHR6d=w92-h92-k-no\" style=\"position: absolute; top: 50%;left: 50%;width: 84px;height: 84px;-webkit-transform: translateY(-50%) translateX(-50%);transform: translateY(-50%) translateX(-50%);\"/></div><button jstcache=\"1446\" style=\"display:none\"></button><div class=\"badge-container\"></div></div></div><div class=\"CJY91c-jRmmHf-aVTXAb-haAclf-hxbzzc\" jstcache=\"1441\"></div></div><div class=\"CJY91c-jRmmHf-aVTXAb-haAclf-IoWfhc\" jstcache=\"1442\"><div class=\"j5hhj-QFlW2\" jstcache=\"1419\" role=\"presentation\" style=\"height: 8px;\">  </div><div class=\"n8sPKe YhB09d\" jsan=\"t-6LUHkvXz3so,7.n8sPKe,7.YhB09d\" jstcache=\"1524\"> <div jstcache=\"1480\" style=\"display:none\"></div> <div class=\"Ahnjwc gm2-body-2\" jsan=\"7.Ahnjwc,7.gm2-body-2\" jstcache=\"1481\"> <div aria-label=\"Refeição no local\" class=\"W6VQef\" jsan=\"7.W6VQef,0.aria-label,0.role\" jsinstance=\"0\" jstcache=\"1482\" role=\"group\"> <div jstcache=\"1483\" style=\"display:none\"></div> <div class=\"W6VQef-content\"> <span jsan=\"5.font-weight\" jsinstance=\"*0\" jstcache=\"1484\" style=\"font-weight:400\">Refeição no local</span> </div> <span aria-hidden=\"true\" class=\"W6VQef-hgDUwe\" jsan=\"7.W6VQef-hgDUwe,0.aria-hidden\" jstcache=\"1485\">·</span> </div><div aria-label=\"Para viagem\" class=\"W6VQef\" jsan=\"7.W6VQef,0.aria-label,0.role\" jsinstance=\"1\" jstcache=\"1482\" role=\"group\"> <div jstcache=\"1483\" style=\"display:none\"></div> <div class=\"W6VQef-content\"> <span jsan=\"5.font-weight\" jsinstance=\"*0\" jstcache=\"1484\" style=\"font-weight:400\">Para viagem</span> </div> <span aria-hidden=\"true\" class=\"W6VQef-hgDUwe\" jsan=\"7.W6VQef-hgDUwe,0.aria-hidden\" jstcache=\"1485\">·</span> </div><div aria-label=\"Entrega sem contato\" class=\"W6VQef\" jsan=\"7.W6VQef,0.aria-label,0.role\" jsinstance=\"*2\" jstcache=\"1482\" role=\"group\"> <div jstcache=\"1483\" style=\"display:none\"></div> <div class=\"W6VQef-content\"> <span jsan=\"5.font-weight\" jsinstance=\"*0\" jstcache=\"1484\" style=\"font-weight:400\">Entrega sem contato</span> </div> <span jstcache=\"1485\" style=\"display:none\">·</span> </div> <div class=\"mo2FTb-p83tee-haAclf\" jstcache=\"1486\"></div> </div> </div></div></div></div></div><div class=\"TFQHme\" jsan=\"t-CuMADJaQITk,7.TFQHme\" jstcache=\"1525\"></div><div jstcache=\"1521\"><div class=\"V0h1Ob-haAclf OPZbO-KE6vqe o0s21d-HiaYvf\" jsaction=\"mouseover:pane.wfvdle63;mouseout:pane.wfvdle63\" jsan=\"7.V0h1Ob-haAclf,7.OPZbO-KE6vqe,7.o0s21d-HiaYvf,0.jsaction\" jstcache=\"1433\"><a aria-label=\"Cia do Caranguejo\" class=\"a4gq8e-aVTXAb-haAclf-jRmmHf-hSRGPd\" href=\"https://www.google.com.br/maps/place/Cia+do+Caranguejo/data=!4m5!3m4!1s0xb81810a97e5427:0x5440f96fdeb24708!8m2!3d-20.2734463!4d-40.2937973?authuser=0&amp;hl=pt-BR&amp;rclk=1\" jsaction=\"pane.wfvdle63;focus:pane.wfvdle63;blur:pane.wfvdle63;auxclick:pane.wfvdle63;contextmenu:pane.wfvdle63;keydown:pane.wfvdle63;clickmod:pane.wfvdle63\" jsan=\"7.a4gq8e-aVTXAb-haAclf-jRmmHf-hSRGPd,0.aria-label,8.href,0.jsaction\" jstcache=\"1434\"></a><div class=\"CJY91c-jRmmHf-aVTXAb-haAclf-WFkMr\" jstcache=\"1435\"></div><div aria-label=\"Cia do Caranguejo\" class=\"MVVflb-haAclf V0h1Ob-haAclf-d6wfac MVVflb-haAclf-uxVfW-hSRGPd\" jsan=\"7.MVVflb-haAclf,7.V0h1Ob-haAclf-d6wfac,7.MVVflb-haAclf-uxVfW-hSRGPd,0.aria-label\" jstcache=\"1436\"><div class=\"CJY91c-jRmmHf-aVTXAb-haAclf-bIWrp\" jstcache=\"1437\"></div><div class=\"lI9IFe\"><div class=\"CJY91c-jRmmHf-aVTXAb-haAclf-HSrbLb\" jstcache=\"1438\"><div class=\"RnEfrd-jRmmHf-HSrbLb B9Hcub-QFlW2\" jsan=\"t-pdDsP4P8DQQ,7.RnEfrd-jRmmHf-HSrbLb,7.B9Hcub-QFlW2\" jstcache=\"1523\"><button jstcache=\"1451\" style=\"display:none\"></button><div class=\"Z8fK3b\" jsan=\"7.Z8fK3b,t-MjeqqY5XOdM\" jstcache=\"1452\"> <div class=\"CUwbzc-content gm2-body-2\"> <div class=\"qBF1Pd-haAclf\"> <div class=\"qBF1Pd gm2-subtitle-alt-1\" jsan=\"7.qBF1Pd,7.gm2-subtitle-alt-1,t-u3p6PfXaXm4\" jstcache=\"1454\"> <span jstcache=\"1467\">Cia do Caranguejo</span> </div> <h1 jstcache=\"1455\" style=\"display:none\"></h1> <span class=\"RnEfrd-jRmmHf-HSrbLb-title-badge-haAclf\"></span> </div> <div class=\"section-subtitle-extension\" jstcache=\"1456\"></div> <div class=\"ZY2y6b-RWgCYc\" jsan=\"7.ZY2y6b-RWgCYc,t-hEqDOx2FFV0\" jstcache=\"1457\"> <div class=\"OEvfgc-wcwwM-haAclf\"> <span class=\"RnEfrd-jRmmHf-HSrbLb-wPzPJb-badge-haAclf\" jstcache=\"1469\"></span> <span class=\"gm2-body-2\" jsan=\"t-CJ3Gw1VPbAA,7.gm2-body-2\" jstcache=\"1470\"><span jstcache=\"1365\" style=\"display:none\"></span><span aria-label=\" 4,5 estrelas  630 comentários  \" class=\"ZkP5Je\" jsan=\"7.ZkP5Je,0.aria-label,0.role,t-kqtGnPs-9G0\" jstcache=\"1366\" role=\"img\"><span aria-hidden=\"true\" class=\"MW4etd\" jsan=\"7.MW4etd,0.aria-hidden\" jstcache=\"1369\">4,5</span><div jstcache=\"1370\" style=\"display:none\"></div><div class=\"QBUL8c\" jsan=\"7.QBUL8c\" jsinstance=\"0\" jstcache=\"1371\"></div><div class=\"QBUL8c\" jsan=\"7.QBUL8c\" jsinstance=\"1\" jstcache=\"1371\"></div><div class=\"QBUL8c\" jsan=\"7.QBUL8c\" jsinstance=\"2\" jstcache=\"1371\"></div><div class=\"QBUL8c\" jsan=\"7.QBUL8c\" jsinstance=\"3\" jstcache=\"1371\"></div><div class=\"QBUL8c cXOKEb-S62Q7b\" jsan=\"7.QBUL8c,7.cXOKEb-S62Q7b\" jsinstance=\"*4\" jstcache=\"1371\"></div><span class=\"UY7F9\" jsan=\"7.UY7F9\" jstcache=\"1372\">(630)</span></span></span> <span jsinstance=\"*0\" jstcache=\"1471\"> <jsl jstcache=\"1472\"> <span aria-hidden=\"true\">·</span> <span jstcache=\"1475\">$$</span> </jsl> </span> </div> </div> <div class=\"ZY2y6b-RWgCYc\"> <span jstcache=\"1458\" style=\"display:none\"></span> <div class=\"ZY2y6b-RWgCYc\" jsinstance=\"0\" jstcache=\"1459\"> <span jsinstance=\"0\" jstcache=\"1460\"> <jsl jstcache=\"1461\"> <span jstcache=\"1477\" style=\"display:none\">·</span> <span jstcache=\"1478\">Frutos do mar</span> </jsl> </span><span jsinstance=\"*1\" jstcache=\"1460\"> <jsl jstcache=\"1461\"> <span aria-hidden=\"true\" class=\"bXlT7b-hgDUwe\" jsan=\"7.bXlT7b-hgDUwe,0.aria-hidden\" jstcache=\"1477\">·</span> <span jstcache=\"1478\">Av. Des. Dermeval Lyrio, 55</span> </jsl> </span> </div><div class=\"ZY2y6b-RWgCYc\" jsinstance=\"*1\" jstcache=\"1459\"> <span jsinstance=\"*0\" jstcache=\"1460\"> <jsl jstcache=\"1461\"> <span jstcache=\"1477\" style=\"display:none\">·</span> <span jstcache=\"1478\">Fecha às 00:00</span> </jsl> </span> </div> </div> </div> </div></div></div><div class=\"CJY91c-jRmmHf-aVTXAb-haAclf-JIbuQc\" jstcache=\"1439\"></div><div class=\"CJY91c-jRmmHf-aVTXAb-haAclf-HiaYvf\" jstcache=\"1440\"><div class=\"xwpmRb qisNDe\" jsan=\"t-PLs0ILPSy_c,7.xwpmRb,7.qisNDe,5.width,5.height,5.margin-top,5.margin-bottom,5.margin-left,5.margin-right\" jstcache=\"1522\" style=\"width: 84px; height: 84px; margin: 0px;\"><div class=\"Vig8jf-haAclf p0Hhde\" jsan=\"7.p0Hhde,7.Vig8jf-haAclf,5.min-width,5.min-height\" jstcache=\"1445\" style=\"min-width:84px;min-height:84px\"><img aria-hidden=\"true\" decoding=\"async\" src=\"https://lh5.googleusercontent.com/p/AF1QipMLJ0DacKWeZy5vJMj7obhWHrGYjYtwGlZJpuOG=w122-h92-k-no\" style=\"position: absolute; top: 50%;left: 50%;width: 111px;height: 84px;-webkit-transform: translateY(-50%) translateX(-50%);transform: translateY(-50%) translateX(-50%);\"/></div><button jstcache=\"1446\" style=\"display:none\"></button><div class=\"badge-container\"></div></div></div><div class=\"CJY91c-jRmmHf-aVTXAb-haAclf-hxbzzc\" jstcache=\"1441\"></div></div><div class=\"CJY91c-jRmmHf-aVTXAb-haAclf-IoWfhc\" jstcache=\"1442\"><div class=\"j5hhj-QFlW2\" jstcache=\"1419\" role=\"presentation\" style=\"height: 8px;\">  </div><div class=\"n8sPKe YhB09d\" jsan=\"t-6LUHkvXz3so,7.n8sPKe,7.YhB09d\" jstcache=\"1524\"> <div jstcache=\"1480\" style=\"display:none\"></div> <div class=\"Ahnjwc gm2-body-2\" jsan=\"7.Ahnjwc,7.gm2-body-2\" jstcache=\"1481\"> <div aria-label=\"Refeição no local\" class=\"W6VQef\" jsan=\"7.W6VQef,0.aria-label,0.role\" jsinstance=\"0\" jstcache=\"1482\" role=\"group\"> <div jstcache=\"1483\" style=\"display:none\"></div> <div class=\"W6VQef-content\"> <span jsan=\"5.font-weight\" jsinstance=\"*0\" jstcache=\"1484\" style=\"font-weight:400\">Refeição no local</span> </div> <span aria-hidden=\"true\" class=\"W6VQef-hgDUwe\" jsan=\"7.W6VQef-hgDUwe,0.aria-hidden\" jstcache=\"1485\">·</span> </div><div aria-label=\"Para viagem\" class=\"W6VQef\" jsan=\"7.W6VQef,0.aria-label,0.role\" jsinstance=\"1\" jstcache=\"1482\" role=\"group\"> <div jstcache=\"1483\" style=\"display:none\"></div> <div class=\"W6VQef-content\"> <span jsan=\"5.font-weight\" jsinstance=\"*0\" jstcache=\"1484\" style=\"font-weight:400\">Para viagem</span> </div> <span aria-hidden=\"true\" class=\"W6VQef-hgDUwe\" jsan=\"7.W6VQef-hgDUwe,0.aria-hidden\" jstcache=\"1485\">·</span> </div><div aria-label=\"Entrega sem contato\" class=\"W6VQef\" jsan=\"7.W6VQef,0.aria-label,0.role\" jsinstance=\"*2\" jstcache=\"1482\" role=\"group\"> <div jstcache=\"1483\" style=\"display:none\"></div> <div class=\"W6VQef-content\"> <span jsan=\"5.font-weight\" jsinstance=\"*0\" jstcache=\"1484\" style=\"font-weight:400\">Entrega sem contato</span> </div> <span jstcache=\"1485\" style=\"display:none\">·</span> </div> <div class=\"mo2FTb-p83tee-haAclf\" jstcache=\"1486\"></div> </div> </div></div></div></div></div><div class=\"TFQHme\" jsan=\"t-CuMADJaQITk,7.TFQHme\" jstcache=\"1525\"></div><div jstcache=\"1521\"><div class=\"V0h1Ob-haAclf OPZbO-KE6vqe o0s21d-HiaYvf\" jsaction=\"mouseover:pane.wfvdle66;mouseout:pane.wfvdle66\" jsan=\"7.V0h1Ob-haAclf,7.OPZbO-KE6vqe,7.o0s21d-HiaYvf,0.jsaction\" jstcache=\"1433\"><a aria-label=\"Bixiga Pizzas e Massas\" class=\"a4gq8e-aVTXAb-haAclf-jRmmHf-hSRGPd\" href=\"https://www.google.com.br/maps/place/Bixiga+Pizzas+e+Massas/data=!4m5!3m4!1s0xb8183d93a4969f:0x1d10f3bce6e37d76!8m2!3d-20.2743097!4d-40.2975754?authuser=0&amp;hl=pt-BR&amp;rclk=1\" jsaction=\"pane.wfvdle66;focus:pane.wfvdle66;blur:pane.wfvdle66;auxclick:pane.wfvdle66;contextmenu:pane.wfvdle66;keydown:pane.wfvdle66;clickmod:pane.wfvdle66\" jsan=\"7.a4gq8e-aVTXAb-haAclf-jRmmHf-hSRGPd,0.aria-label,8.href,0.jsaction\" jstcache=\"1434\"></a><div class=\"CJY91c-jRmmHf-aVTXAb-haAclf-WFkMr\" jstcache=\"1435\"></div><div aria-label=\"Bixiga Pizzas e Massas\" class=\"MVVflb-haAclf V0h1Ob-haAclf-d6wfac MVVflb-haAclf-uxVfW-hSRGPd\" jsan=\"7.MVVflb-haAclf,7.V0h1Ob-haAclf-d6wfac,7.MVVflb-haAclf-uxVfW-hSRGPd,0.aria-label\" jstcache=\"1436\"><div class=\"CJY91c-jRmmHf-aVTXAb-haAclf-bIWrp\" jstcache=\"1437\"></div><div class=\"lI9IFe\"><div class=\"CJY91c-jRmmHf-aVTXAb-haAclf-HSrbLb\" jstcache=\"1438\"><div class=\"RnEfrd-jRmmHf-HSrbLb B9Hcub-QFlW2\" jsan=\"t-pdDsP4P8DQQ,7.RnEfrd-jRmmHf-HSrbLb,7.B9Hcub-QFlW2\" jstcache=\"1523\"><button jstcache=\"1451\" style=\"display:none\"></button><div class=\"Z8fK3b\" jsan=\"7.Z8fK3b,t-MjeqqY5XOdM\" jstcache=\"1452\"> <div class=\"CUwbzc-content gm2-body-2\"> <div class=\"qBF1Pd-haAclf\"> <div class=\"qBF1Pd gm2-subtitle-alt-1\" jsan=\"7.qBF1Pd,7.gm2-subtitle-alt-1,t-u3p6PfXaXm4\" jstcache=\"1454\"> <span jstcache=\"1467\">Bixiga Pizzas e Massas</span> </div> <h1 jstcache=\"1455\" style=\"display:none\"></h1> <span class=\"RnEfrd-jRmmHf-HSrbLb-title-badge-haAclf\"></span> </div> <div class=\"section-subtitle-extension\" jstcache=\"1456\"></div> <div class=\"ZY2y6b-RWgCYc\" jsan=\"7.ZY2y6b-RWgCYc,t-hEqDOx2FFV0\" jstcache=\"1457\"> <div class=\"OEvfgc-wcwwM-haAclf\"> <span class=\"RnEfrd-jRmmHf-HSrbLb-wPzPJb-badge-haAclf\" jstcache=\"1469\"></span> <span class=\"gm2-body-2\" jsan=\"t-CJ3Gw1VPbAA,7.gm2-body-2\" jstcache=\"1470\"><span jstcache=\"1365\" style=\"display:none\"></span><span aria-label=\" 4,4 estrelas  596 comentários  \" class=\"ZkP5Je\" jsan=\"7.ZkP5Je,0.aria-label,0.role,t-kqtGnPs-9G0\" jstcache=\"1366\" role=\"img\"><span aria-hidden=\"true\" class=\"MW4etd\" jsan=\"7.MW4etd,0.aria-hidden\" jstcache=\"1369\">4,4</span><div jstcache=\"1370\" style=\"display:none\"></div><div class=\"QBUL8c\" jsan=\"7.QBUL8c\" jsinstance=\"0\" jstcache=\"1371\"></div><div class=\"QBUL8c\" jsan=\"7.QBUL8c\" jsinstance=\"1\" jstcache=\"1371\"></div><div class=\"QBUL8c\" jsan=\"7.QBUL8c\" jsinstance=\"2\" jstcache=\"1371\"></div><div class=\"QBUL8c\" jsan=\"7.QBUL8c\" jsinstance=\"3\" jstcache=\"1371\"></div><div class=\"QBUL8c cXOKEb-S62Q7b\" jsan=\"7.QBUL8c,7.cXOKEb-S62Q7b\" jsinstance=\"*4\" jstcache=\"1371\"></div><span class=\"UY7F9\" jsan=\"7.UY7F9\" jstcache=\"1372\">(596)</span></span></span> <span jsinstance=\"*0\" jstcache=\"1471\"> <jsl jstcache=\"1472\"> <span aria-hidden=\"true\">·</span> <span jstcache=\"1475\">$$</span> </jsl> </span> </div> </div> <div class=\"ZY2y6b-RWgCYc\"> <span jstcache=\"1458\" style=\"display:none\"></span> <div class=\"ZY2y6b-RWgCYc\" jsinstance=\"0\" jstcache=\"1459\"> <span jsinstance=\"0\" jstcache=\"1460\"> <jsl jstcache=\"1461\"> <span jstcache=\"1477\" style=\"display:none\">·</span> <span jstcache=\"1478\">Pizza</span> </jsl> </span><span jsinstance=\"*1\" jstcache=\"1460\"> <jsl jstcache=\"1461\"> <span aria-hidden=\"true\" class=\"bXlT7b-hgDUwe\" jsan=\"7.bXlT7b-hgDUwe,0.aria-hidden\" jstcache=\"1477\">·</span> <span jstcache=\"1478\">Av. Carlos Gomes de Sá</span> </jsl> </span> </div><div class=\"ZY2y6b-RWgCYc\" jsinstance=\"1\" jstcache=\"1459\"> <span jsinstance=\"*0\" jstcache=\"1460\"> <jsl jstcache=\"1461\"> <span jstcache=\"1477\" style=\"display:none\">·</span> <span jstcache=\"1478\">Um pedacinho da Itália em Vitória</span> </jsl> </span> </div><div class=\"ZY2y6b-RWgCYc\" jsinstance=\"*2\" jstcache=\"1459\"> <span jsinstance=\"*0\" jstcache=\"1460\"> <jsl jstcache=\"1461\"> <span jstcache=\"1477\" style=\"display:none\">·</span> <span jstcache=\"1478\">Fecha às 00:00</span> </jsl> </span> </div> </div> </div> </div></div></div><div class=\"CJY91c-jRmmHf-aVTXAb-haAclf-JIbuQc\" jstcache=\"1439\"></div><div class=\"CJY91c-jRmmHf-aVTXAb-haAclf-HiaYvf\" jstcache=\"1440\"><div class=\"xwpmRb qisNDe\" jsan=\"t-PLs0ILPSy_c,7.xwpmRb,7.qisNDe,5.width,5.height,5.margin-top,5.margin-bottom,5.margin-left,5.margin-right\" jstcache=\"1522\" style=\"width: 84px; height: 84px; margin: 0px;\"><div class=\"Vig8jf-haAclf p0Hhde\" jsan=\"7.p0Hhde,7.Vig8jf-haAclf,5.min-width,5.min-height\" jstcache=\"1445\" style=\"min-width:84px;min-height:84px\"><img aria-hidden=\"true\" decoding=\"async\" src=\"https://lh5.googleusercontent.com/p/AF1QipPweEO2YuTfACEKpbUPL_S95Q1wK76ztnULVfYW=w122-h92-k-no\" style=\"position: absolute; top: 50%;left: 50%;width: 111px;height: 84px;-webkit-transform: translateY(-50%) translateX(-50%);transform: translateY(-50%) translateX(-50%);\"/></div><button jstcache=\"1446\" style=\"display:none\"></button><div class=\"badge-container\"></div></div></div><div class=\"CJY91c-jRmmHf-aVTXAb-haAclf-hxbzzc\" jstcache=\"1441\"></div></div><div class=\"CJY91c-jRmmHf-aVTXAb-haAclf-IoWfhc\" jstcache=\"1442\"><div class=\"j5hhj-QFlW2\" jstcache=\"1419\" role=\"presentation\" style=\"height: 8px;\">  </div><div class=\"n8sPKe YhB09d\" jsan=\"t-6LUHkvXz3so,7.n8sPKe,7.YhB09d\" jstcache=\"1524\"> <div jstcache=\"1480\" style=\"display:none\"></div> <div class=\"Ahnjwc gm2-body-2\" jsan=\"7.Ahnjwc,7.gm2-body-2\" jstcache=\"1481\"> <div aria-label=\"Refeição no local\" class=\"W6VQef\" jsan=\"7.W6VQef,0.aria-label,0.role\" jsinstance=\"0\" jstcache=\"1482\" role=\"group\"> <div jstcache=\"1483\" style=\"display:none\"></div> <div class=\"W6VQef-content\"> <span jsan=\"5.font-weight\" jsinstance=\"*0\" jstcache=\"1484\" style=\"font-weight:400\">Refeição no local</span> </div> <span aria-hidden=\"true\" class=\"W6VQef-hgDUwe\" jsan=\"7.W6VQef-hgDUwe,0.aria-hidden\" jstcache=\"1485\">·</span> </div><div aria-label=\"Para viagem\" class=\"W6VQef\" jsan=\"7.W6VQef,0.aria-label,0.role\" jsinstance=\"1\" jstcache=\"1482\" role=\"group\"> <div jstcache=\"1483\" style=\"display:none\"></div> <div class=\"W6VQef-content\"> <span jsan=\"5.font-weight\" jsinstance=\"*0\" jstcache=\"1484\" style=\"font-weight:400\">Para viagem</span> </div> <span aria-hidden=\"true\" class=\"W6VQef-hgDUwe\" jsan=\"7.W6VQef-hgDUwe,0.aria-hidden\" jstcache=\"1485\">·</span> </div><div aria-label=\"Entrega\" class=\"W6VQef\" jsan=\"7.W6VQef,0.aria-label,0.role\" jsinstance=\"*2\" jstcache=\"1482\" role=\"group\"> <div jstcache=\"1483\" style=\"display:none\"></div> <div class=\"W6VQef-content\"> <span jsan=\"5.font-weight\" jsinstance=\"*0\" jstcache=\"1484\" style=\"font-weight:400\">Entrega</span> </div> <span jstcache=\"1485\" style=\"display:none\">·</span> </div> <div class=\"mo2FTb-p83tee-haAclf\" jstcache=\"1486\"></div> </div> </div></div></div></div></div><div class=\"TFQHme\" jsan=\"t-CuMADJaQITk,7.TFQHme\" jstcache=\"1525\"></div><div jstcache=\"1521\"><div class=\"V0h1Ob-haAclf OPZbO-KE6vqe o0s21d-HiaYvf\" jsaction=\"mouseover:pane.wfvdle69;mouseout:pane.wfvdle69\" jsan=\"7.V0h1Ob-haAclf,7.OPZbO-KE6vqe,7.o0s21d-HiaYvf,0.jsaction\" jstcache=\"1433\"><a aria-label=\"Grill Mania\" class=\"a4gq8e-aVTXAb-haAclf-jRmmHf-hSRGPd\" href=\"https://www.google.com.br/maps/place/Grill+Mania/data=!4m5!3m4!1s0xb818174e5148e1:0xc885332d5bc5ab15!8m2!3d-20.272987!4d-40.2930957?authuser=0&amp;hl=pt-BR&amp;rclk=1\" jsaction=\"pane.wfvdle69;focus:pane.wfvdle69;blur:pane.wfvdle69;auxclick:pane.wfvdle69;contextmenu:pane.wfvdle69;keydown:pane.wfvdle69;clickmod:pane.wfvdle69\" jsan=\"7.a4gq8e-aVTXAb-haAclf-jRmmHf-hSRGPd,0.aria-label,8.href,0.jsaction\" jstcache=\"1434\"></a><div class=\"CJY91c-jRmmHf-aVTXAb-haAclf-WFkMr\" jstcache=\"1435\"></div><div aria-label=\"Grill Mania\" class=\"MVVflb-haAclf V0h1Ob-haAclf-d6wfac MVVflb-haAclf-uxVfW-hSRGPd\" jsan=\"7.MVVflb-haAclf,7.V0h1Ob-haAclf-d6wfac,7.MVVflb-haAclf-uxVfW-hSRGPd,0.aria-label\" jstcache=\"1436\"><div class=\"CJY91c-jRmmHf-aVTXAb-haAclf-bIWrp\" jstcache=\"1437\"></div><div class=\"lI9IFe\"><div class=\"CJY91c-jRmmHf-aVTXAb-haAclf-HSrbLb\" jstcache=\"1438\"><div class=\"RnEfrd-jRmmHf-HSrbLb B9Hcub-QFlW2\" jsan=\"t-pdDsP4P8DQQ,7.RnEfrd-jRmmHf-HSrbLb,7.B9Hcub-QFlW2\" jstcache=\"1523\"><button jstcache=\"1451\" style=\"display:none\"></button><div class=\"Z8fK3b\" jsan=\"7.Z8fK3b,t-MjeqqY5XOdM\" jstcache=\"1452\"> <div class=\"CUwbzc-content gm2-body-2\"> <div class=\"qBF1Pd-haAclf\"> <div class=\"qBF1Pd gm2-subtitle-alt-1\" jsan=\"7.qBF1Pd,7.gm2-subtitle-alt-1,t-u3p6PfXaXm4\" jstcache=\"1454\"> <span jstcache=\"1467\">Grill Mania</span> </div> <h1 jstcache=\"1455\" style=\"display:none\"></h1> <span class=\"RnEfrd-jRmmHf-HSrbLb-title-badge-haAclf\"></span> </div> <div class=\"section-subtitle-extension\" jstcache=\"1456\"></div> <div class=\"ZY2y6b-RWgCYc\" jsan=\"7.ZY2y6b-RWgCYc,t-hEqDOx2FFV0\" jstcache=\"1457\"> <div class=\"OEvfgc-wcwwM-haAclf\"> <span class=\"RnEfrd-jRmmHf-HSrbLb-wPzPJb-badge-haAclf\" jstcache=\"1469\"></span> <span class=\"gm2-body-2\" jsan=\"t-CJ3Gw1VPbAA,7.gm2-body-2\" jstcache=\"1470\"><span jstcache=\"1365\" style=\"display:none\"></span><span aria-label=\" 4,4 estrelas  360 comentários  \" class=\"ZkP5Je\" jsan=\"7.ZkP5Je,0.aria-label,0.role,t-kqtGnPs-9G0\" jstcache=\"1366\" role=\"img\"><span aria-hidden=\"true\" class=\"MW4etd\" jsan=\"7.MW4etd,0.aria-hidden\" jstcache=\"1369\">4,4</span><div jstcache=\"1370\" style=\"display:none\"></div><div class=\"QBUL8c\" jsan=\"7.QBUL8c\" jsinstance=\"0\" jstcache=\"1371\"></div><div class=\"QBUL8c\" jsan=\"7.QBUL8c\" jsinstance=\"1\" jstcache=\"1371\"></div><div class=\"QBUL8c\" jsan=\"7.QBUL8c\" jsinstance=\"2\" jstcache=\"1371\"></div><div class=\"QBUL8c\" jsan=\"7.QBUL8c\" jsinstance=\"3\" jstcache=\"1371\"></div><div class=\"QBUL8c cXOKEb-S62Q7b\" jsan=\"7.QBUL8c,7.cXOKEb-S62Q7b\" jsinstance=\"*4\" jstcache=\"1371\"></div><span class=\"UY7F9\" jsan=\"7.UY7F9\" jstcache=\"1372\">(360)</span></span></span> <span jsinstance=\"*0\" jstcache=\"1471\"> <jsl jstcache=\"1472\"> <span aria-hidden=\"true\">·</span> <span jstcache=\"1475\">$$</span> </jsl> </span> </div> </div> <div class=\"ZY2y6b-RWgCYc\"> <span jstcache=\"1458\" style=\"display:none\"></span> <div class=\"ZY2y6b-RWgCYc\" jsinstance=\"0\" jstcache=\"1459\"> <span jsinstance=\"0\" jstcache=\"1460\"> <jsl jstcache=\"1461\"> <span jstcache=\"1477\" style=\"display:none\">·</span> <span jstcache=\"1478\">Churrasco</span> </jsl> </span><span jsinstance=\"*1\" jstcache=\"1460\"> <jsl jstcache=\"1461\"> <span aria-hidden=\"true\" class=\"bXlT7b-hgDUwe\" jsan=\"7.bXlT7b-hgDUwe,0.aria-hidden\" jstcache=\"1477\">·</span> <span jstcache=\"1478\">Av. Rosendo Serapião de Souza Filho, 629</span> </jsl> </span> </div><div class=\"ZY2y6b-RWgCYc\" jsinstance=\"*1\" jstcache=\"1459\"> <span jsinstance=\"*0\" jstcache=\"1460\"> <jsl jstcache=\"1461\"> <span jstcache=\"1477\" style=\"display:none\">·</span> <span jstcache=\"1478\">Fecha às 00:00</span> </jsl> </span> </div> </div> </div> </div></div></div><div class=\"CJY91c-jRmmHf-aVTXAb-haAclf-JIbuQc\" jstcache=\"1439\"></div><div class=\"CJY91c-jRmmHf-aVTXAb-haAclf-HiaYvf\" jstcache=\"1440\"><div class=\"xwpmRb qisNDe\" jsan=\"t-PLs0ILPSy_c,7.xwpmRb,7.qisNDe,5.width,5.height,5.margin-top,5.margin-bottom,5.margin-left,5.margin-right\" jstcache=\"1522\" style=\"width: 84px; height: 84px; margin: 0px;\"><div class=\"Vig8jf-haAclf p0Hhde\" jsan=\"7.p0Hhde,7.Vig8jf-haAclf,5.min-width,5.min-height\" jstcache=\"1445\" style=\"min-width:84px;min-height:84px\"><img aria-hidden=\"true\" decoding=\"async\" src=\"https://lh5.googleusercontent.com/p/AF1QipN0Clh4g0kiSx8_Wnz4vW_VQo1oztEcjehRrd_6=w80-h106-k-no\" style=\"position: absolute; top: 50%;left: 50%;width: 84px;height: 111px;-webkit-transform: translateY(-50%) translateX(-50%);transform: translateY(-50%) translateX(-50%);\"/></div><button jstcache=\"1446\" style=\"display:none\"></button><div class=\"badge-container\"></div></div></div><div class=\"CJY91c-jRmmHf-aVTXAb-haAclf-hxbzzc\" jstcache=\"1441\"></div></div><div class=\"CJY91c-jRmmHf-aVTXAb-haAclf-IoWfhc\" jstcache=\"1442\"><div class=\"j5hhj-QFlW2\" jstcache=\"1419\" role=\"presentation\" style=\"height: 8px;\">  </div><div class=\"n8sPKe YhB09d\" jsan=\"t-6LUHkvXz3so,7.n8sPKe,7.YhB09d\" jstcache=\"1524\"> <div jstcache=\"1480\" style=\"display:none\"></div> <div class=\"Ahnjwc gm2-body-2\" jsan=\"7.Ahnjwc,7.gm2-body-2\" jstcache=\"1481\"> <div aria-label=\"Refeição no local\" class=\"W6VQef\" jsan=\"7.W6VQef,0.aria-label,0.role\" jsinstance=\"0\" jstcache=\"1482\" role=\"group\"> <div jstcache=\"1483\" style=\"display:none\"></div> <div class=\"W6VQef-content\"> <span jsan=\"5.font-weight\" jsinstance=\"*0\" jstcache=\"1484\" style=\"font-weight:400\">Refeição no local</span> </div> <span aria-hidden=\"true\" class=\"W6VQef-hgDUwe\" jsan=\"7.W6VQef-hgDUwe,0.aria-hidden\" jstcache=\"1485\">·</span> </div><div aria-label=\"Para viagem\" class=\"W6VQef\" jsan=\"7.W6VQef,0.aria-label,0.role\" jsinstance=\"1\" jstcache=\"1482\" role=\"group\"> <div jstcache=\"1483\" style=\"display:none\"></div> <div class=\"W6VQef-content\"> <span jsan=\"5.font-weight\" jsinstance=\"*0\" jstcache=\"1484\" style=\"font-weight:400\">Para viagem</span> </div> <span aria-hidden=\"true\" class=\"W6VQef-hgDUwe\" jsan=\"7.W6VQef-hgDUwe,0.aria-hidden\" jstcache=\"1485\">·</span> </div><div aria-label=\"Entrega sem contato\" class=\"W6VQef\" jsan=\"7.W6VQef,0.aria-label,0.role\" jsinstance=\"*2\" jstcache=\"1482\" role=\"group\"> <div jstcache=\"1483\" style=\"display:none\"></div> <div class=\"W6VQef-content\"> <span jsan=\"5.font-weight\" jsinstance=\"*0\" jstcache=\"1484\" style=\"font-weight:400\">Entrega sem contato</span> </div> <span jstcache=\"1485\" style=\"display:none\">·</span> </div> <div class=\"mo2FTb-p83tee-haAclf\" jstcache=\"1486\"></div> </div> </div></div></div></div></div><div class=\"TFQHme\" jsan=\"t-CuMADJaQITk,7.TFQHme\" jstcache=\"1525\"></div><div jstcache=\"1521\"><div class=\"V0h1Ob-haAclf OPZbO-KE6vqe o0s21d-HiaYvf\" jsaction=\"mouseover:pane.wfvdle72;mouseout:pane.wfvdle72\" jsan=\"7.V0h1Ob-haAclf,7.OPZbO-KE6vqe,7.o0s21d-HiaYvf,0.jsaction\" jstcache=\"1433\"><a aria-label=\"King Kone Pizza-Bar\" class=\"a4gq8e-aVTXAb-haAclf-jRmmHf-hSRGPd\" href=\"https://www.google.com.br/maps/place/King+Kone+Pizza-Bar/data=!4m5!3m4!1s0xb81802ec68ac2f:0x2466032ec54e1ddb!8m2!3d-20.280395!4d-40.3000078?authuser=0&amp;hl=pt-BR&amp;rclk=1\" jsaction=\"pane.wfvdle72;focus:pane.wfvdle72;blur:pane.wfvdle72;auxclick:pane.wfvdle72;contextmenu:pane.wfvdle72;keydown:pane.wfvdle72;clickmod:pane.wfvdle72\" jsan=\"7.a4gq8e-aVTXAb-haAclf-jRmmHf-hSRGPd,0.aria-label,8.href,0.jsaction\" jstcache=\"1434\"></a><div class=\"CJY91c-jRmmHf-aVTXAb-haAclf-WFkMr\" jstcache=\"1435\"></div><div aria-label=\"King Kone Pizza-Bar\" class=\"MVVflb-haAclf V0h1Ob-haAclf-d6wfac MVVflb-haAclf-uxVfW-hSRGPd\" jsan=\"7.MVVflb-haAclf,7.V0h1Ob-haAclf-d6wfac,7.MVVflb-haAclf-uxVfW-hSRGPd,0.aria-label\" jstcache=\"1436\"><div class=\"CJY91c-jRmmHf-aVTXAb-haAclf-bIWrp\" jstcache=\"1437\"></div><div class=\"lI9IFe\"><div class=\"CJY91c-jRmmHf-aVTXAb-haAclf-HSrbLb\" jstcache=\"1438\"><div class=\"RnEfrd-jRmmHf-HSrbLb B9Hcub-QFlW2\" jsan=\"t-pdDsP4P8DQQ,7.RnEfrd-jRmmHf-HSrbLb,7.B9Hcub-QFlW2\" jstcache=\"1523\"><button jstcache=\"1451\" style=\"display:none\"></button><div class=\"Z8fK3b\" jsan=\"7.Z8fK3b,t-MjeqqY5XOdM\" jstcache=\"1452\"> <div class=\"CUwbzc-content gm2-body-2\"> <div class=\"qBF1Pd-haAclf\"> <div class=\"qBF1Pd gm2-subtitle-alt-1\" jsan=\"7.qBF1Pd,7.gm2-subtitle-alt-1,t-u3p6PfXaXm4\" jstcache=\"1454\"> <span jstcache=\"1467\">King Kone Pizza-Bar</span> </div> <h1 jstcache=\"1455\" style=\"display:none\"></h1> <span class=\"RnEfrd-jRmmHf-HSrbLb-title-badge-haAclf\"></span> </div> <div class=\"section-subtitle-extension\" jstcache=\"1456\"></div> <div class=\"ZY2y6b-RWgCYc\" jsan=\"7.ZY2y6b-RWgCYc,t-hEqDOx2FFV0\" jstcache=\"1457\"> <div class=\"OEvfgc-wcwwM-haAclf\"> <span class=\"RnEfrd-jRmmHf-HSrbLb-wPzPJb-badge-haAclf\" jstcache=\"1469\"></span> <span class=\"gm2-body-2\" jsan=\"t-CJ3Gw1VPbAA,7.gm2-body-2\" jstcache=\"1470\"><span jstcache=\"1365\" style=\"display:none\"></span><span aria-label=\" 4,6 estrelas  1.369 comentários  \" class=\"ZkP5Je\" jsan=\"7.ZkP5Je,0.aria-label,0.role,t-kqtGnPs-9G0\" jstcache=\"1366\" role=\"img\"><span aria-hidden=\"true\" class=\"MW4etd\" jsan=\"7.MW4etd,0.aria-hidden\" jstcache=\"1369\">4,6</span><div jstcache=\"1370\" style=\"display:none\"></div><div class=\"QBUL8c\" jsan=\"7.QBUL8c\" jsinstance=\"0\" jstcache=\"1371\"></div><div class=\"QBUL8c\" jsan=\"7.QBUL8c\" jsinstance=\"1\" jstcache=\"1371\"></div><div class=\"QBUL8c\" jsan=\"7.QBUL8c\" jsinstance=\"2\" jstcache=\"1371\"></div><div class=\"QBUL8c\" jsan=\"7.QBUL8c\" jsinstance=\"3\" jstcache=\"1371\"></div><div class=\"QBUL8c cXOKEb-S62Q7b\" jsan=\"7.QBUL8c,7.cXOKEb-S62Q7b\" jsinstance=\"*4\" jstcache=\"1371\"></div><span class=\"UY7F9\" jsan=\"7.UY7F9\" jstcache=\"1372\">(1.369)</span></span></span> <span jsinstance=\"*0\" jstcache=\"1471\"> <jsl jstcache=\"1472\"> <span aria-hidden=\"true\">·</span> <span jstcache=\"1475\">$$</span> </jsl> </span> </div> </div> <div class=\"ZY2y6b-RWgCYc\"> <span jstcache=\"1458\" style=\"display:none\"></span> <div class=\"ZY2y6b-RWgCYc\" jsinstance=\"0\" jstcache=\"1459\"> <span jsinstance=\"0\" jstcache=\"1460\"> <jsl jstcache=\"1461\"> <span jstcache=\"1477\" style=\"display:none\">·</span> <span jstcache=\"1478\">Pizza</span> </jsl> </span><span jsinstance=\"*1\" jstcache=\"1460\"> <jsl jstcache=\"1461\"> <span aria-hidden=\"true\" class=\"bXlT7b-hgDUwe\" jsan=\"7.bXlT7b-hgDUwe,0.aria-hidden\" jstcache=\"1477\">·</span> <span jstcache=\"1478\">Edifício Portinari - Av. Anísio Fernandes Coelho, 1645</span> </jsl> </span> </div><div class=\"ZY2y6b-RWgCYc\" jsinstance=\"1\" jstcache=\"1459\"> <span jsinstance=\"*0\" jstcache=\"1460\"> <jsl jstcache=\"1461\"> <span jstcache=\"1477\" style=\"display:none\">·</span> <span jstcache=\"1478\">Cones de pizza em espaço descontraído</span> </jsl> </span> </div><div class=\"ZY2y6b-RWgCYc\" jsinstance=\"*2\" jstcache=\"1459\"> <span jsinstance=\"*0\" jstcache=\"1460\"> <jsl jstcache=\"1461\"> <span jstcache=\"1477\" style=\"display:none\">·</span> <span jstcache=\"1478\">Fecha às 00:30</span> </jsl> </span> </div> </div> </div> </div></div></div><div class=\"CJY91c-jRmmHf-aVTXAb-haAclf-JIbuQc\" jstcache=\"1439\"></div><div class=\"CJY91c-jRmmHf-aVTXAb-haAclf-HiaYvf\" jstcache=\"1440\"><div class=\"xwpmRb qisNDe\" jsan=\"t-PLs0ILPSy_c,7.xwpmRb,7.qisNDe,5.width,5.height,5.margin-top,5.margin-bottom,5.margin-left,5.margin-right\" jstcache=\"1522\" style=\"width: 84px; height: 84px; margin: 0px;\"><div class=\"Vig8jf-haAclf p0Hhde\" jsan=\"7.p0Hhde,7.Vig8jf-haAclf,5.min-width,5.min-height\" jstcache=\"1445\" style=\"min-width:84px;min-height:84px\"><img aria-hidden=\"true\" decoding=\"async\" src=\"https://lh5.googleusercontent.com/p/AF1QipP7JtA_gzGDeF5uh-8dpUQNhCgUuzTsMrO3Pppx=w80-h106-k-no\" style=\"position: absolute; top: 50%;left: 50%;width: 84px;height: 111px;-webkit-transform: translateY(-50%) translateX(-50%);transform: translateY(-50%) translateX(-50%);\"/></div><button jstcache=\"1446\" style=\"display:none\"></button><div class=\"badge-container\"></div></div></div><div class=\"CJY91c-jRmmHf-aVTXAb-haAclf-hxbzzc\" jstcache=\"1441\"></div></div><div class=\"CJY91c-jRmmHf-aVTXAb-haAclf-IoWfhc\" jstcache=\"1442\"><div class=\"j5hhj-QFlW2\" jstcache=\"1419\" role=\"presentation\" style=\"height: 8px;\">  </div><div class=\"n8sPKe YhB09d\" jsan=\"t-6LUHkvXz3so,7.n8sPKe,7.YhB09d\" jstcache=\"1524\"> <div jstcache=\"1480\" style=\"display:none\"></div> <div class=\"Ahnjwc gm2-body-2\" jsan=\"7.Ahnjwc,7.gm2-body-2\" jstcache=\"1481\"> <div aria-label=\"Refeição no local\" class=\"W6VQef\" jsan=\"7.W6VQef,0.aria-label,0.role\" jsinstance=\"0\" jstcache=\"1482\" role=\"group\"> <div jstcache=\"1483\" style=\"display:none\"></div> <div class=\"W6VQef-content\"> <span jsan=\"5.font-weight\" jsinstance=\"*0\" jstcache=\"1484\" style=\"font-weight:400\">Refeição no local</span> </div> <span aria-hidden=\"true\" class=\"W6VQef-hgDUwe\" jsan=\"7.W6VQef-hgDUwe,0.aria-hidden\" jstcache=\"1485\">·</span> </div><div aria-label=\"Para viagem\" class=\"W6VQef\" jsan=\"7.W6VQef,0.aria-label,0.role\" jsinstance=\"1\" jstcache=\"1482\" role=\"group\"> <div jstcache=\"1483\" style=\"display:none\"></div> <div class=\"W6VQef-content\"> <span jsan=\"5.font-weight\" jsinstance=\"*0\" jstcache=\"1484\" style=\"font-weight:400\">Para viagem</span> </div> <span aria-hidden=\"true\" class=\"W6VQef-hgDUwe\" jsan=\"7.W6VQef-hgDUwe,0.aria-hidden\" jstcache=\"1485\">·</span> </div><div aria-label=\"Entrega sem contato\" class=\"W6VQef\" jsan=\"7.W6VQef,0.aria-label,0.role\" jsinstance=\"*2\" jstcache=\"1482\" role=\"group\"> <div jstcache=\"1483\" style=\"display:none\"></div> <div class=\"W6VQef-content\"> <span jsan=\"5.font-weight\" jsinstance=\"*0\" jstcache=\"1484\" style=\"font-weight:400\">Entrega sem contato</span> </div> <span jstcache=\"1485\" style=\"display:none\">·</span> </div> <div class=\"mo2FTb-p83tee-haAclf\" jstcache=\"1486\"></div> </div> </div></div></div></div></div><div class=\"wo1ice-loading noprint\" jsan=\"t-WPtQSFf6msE,7.wo1ice-loading,7.noprint\" jstcache=\"1422\"> <div class=\"wo1ice-loading-bF1uUb wo1ice-loading-KoToPc\" jstcache=\"1395\" style=\"display:none\"></div> <div class=\"wo1ice-loading-bF1uUb-aZ2wEe\" jstcache=\"1396\" style=\"display:none\"> <div jstcache=\"1397\"></div> </div> <div class=\"wo1ice-loading-aZ2wEe\" jsan=\"7.wo1ice-loading-aZ2wEe\" jstcache=\"1398\"></div> </div></div><div aria-label=\"Exibindo resultados de 1 a 20\" aria-live=\"polite\" class=\"UTvBab\" jsan=\"t-BjduZgwHyU8,7.UTvBab,0.aria-live,0.aria-label,0.role\" jstcache=\"1526\" role=\"region\"><div class=\"gm2-caption\"><div><span aria-hidden=\"true\" class=\"Jl2AFb\" jsan=\"7.Jl2AFb,0.aria-hidden\" jstcache=\"1496\">Mostrando resultados <span jstcache=\"1497\">1</span> - <span jstcache=\"1498\">20</span></span><div class=\"punXpd\"><button aria-label=\"Página anterior\" class=\"hV1iCc noprint hV1iCc-disabled\" disabled=\"true\" id=\"ppdPk-Ej1Yeb-LgbsSe-E7ORLb\" jsaction=\"pane.paginationSection.previousPage\" jsan=\"7.hV1iCc,7.noprint,7.hV1iCc-disabled,0.disabled,0.ved,0.aria-label,0.id,22.jsaction\" jstcache=\"1499\" ved=\"1i:1,t:12697,e:0,p:j8V0YczmMt--5OUPr_G6sAQ:180\"><img alt=\"\" class=\"hV1iCc-icon\" jstcache=\"1500\" src=\"//www.gstatic.com/images/icons/material/system/2x/chevron_left_black_24dp.png\"/></button><button aria-label=\"Próxima página\" class=\"hV1iCc noprint\" id=\"ppdPk-Ej1Yeb-LgbsSe-tJiF1e\" jsaction=\"pane.paginationSection.nextPage\" jsan=\"7.hV1iCc,7.noprint,0.ved,0.aria-label,0.id,22.jsaction\" jstcache=\"1501\" ved=\"1i:2,t:12696,e:1,p:j8V0YczmMt--5OUPr_G6sAQ:180\"><img alt=\"\" class=\"hV1iCc-icon\" jstcache=\"1502\" src=\"//www.gstatic.com/images/icons/material/system/2x/chevron_right_black_24dp.png\"/></button></div></div><div class=\"ppdPk-GuSnOd-rmC9uc-QQAREe-hSRGPd-ZYyEqf\" jstcache=\"1503\" style=\"display:none\"></div><div class=\"p1qUte\" jstcache=\"1504\" style=\"display:none\">* <span jstcache=\"1505\"></span></div></div></div><div class=\"jmUlyc-LaJeF-on-HG3vT noprint\" jsan=\"t-swAMj86L1Io,7.jmUlyc-LaJeF-on-HG3vT,7.noprint\" jstcache=\"1527\"> <button aria-checked=\"false\" class=\"jmUlyc-LaJeF-on-HG3vT-checkbox\" jsaction=\"pane.queryOnPan.toggle;focus:pane.queryOnPan.toggle;blur:pane.queryOnPan.toggle;keydown:pane.queryOnPan.toggle\" jsan=\"7.jmUlyc-LaJeF-on-HG3vT-checkbox,0.aria-checked,0.ved,0.vet,0.role,22.jsaction\" jstcache=\"1519\" role=\"checkbox\" ved=\"1i:0,t:19128,e:13,p:j8V0YczmMt--5OUPr_G6sAQ:182\" vet=\"19128\">Atualizar resultados quando o mapa for movido</button> </div><div class=\"qq71r-qrlFte-bF1uUb noprint\" jsan=\"t-lAj0-0Yc4q0,7.qq71r-qrlFte-bF1uUb,7.noprint,5.top\" jstcache=\"1423\" style=\"top: 0px;\"> </div>\n"
     ]
    }
   ],
   "source": [
    "soup=BeautifulSoup(html,'html.parser')\n",
    "#resposta=soup.find(\"div\", {\"jstcache\":\"933\"})\n",
    "print(soup)"
   ]
  },
  {
   "cell_type": "code",
   "execution_count": 183,
   "id": "437bb863",
   "metadata": {},
   "outputs": [
    {
     "data": {
      "text/plain": [
       "['    El Libertador         4,7(576)   ',\n",
       " '           ',\n",
       " ' Restaurante    ',\n",
       " ' Av. Carlos Gomes de Sá, 500 - 03      ',\n",
       " ' Comidas e música em espaço sul-americano      ',\n",
       " ' Aberto até às 01:00      \\xa0       Refeição no local  ',\n",
       " '    Para viagem  ',\n",
       " '    Entrega sem contato  ',\n",
       " '        Baruk         4,7(103)           ',\n",
       " ' Libanesa    ',\n",
       " ' Shopping Boulevard - Av. Rosendo Serapião de Souza Filho, 691 - 02/03      ',\n",
       " ' Fecha às 00:00      \\xa0       Refeição no local  ',\n",
       " '    Para viagem  ',\n",
       " '    Entrega sem contato  ',\n",
       " '        Cia do Caranguejo         4,5(630)   ',\n",
       " '           ',\n",
       " ' Frutos do mar    ',\n",
       " ' Av. Des. Dermeval Lyrio, 55      ',\n",
       " ' Fecha às 00:00      \\xa0       Refeição no local  ',\n",
       " '    Para viagem  ',\n",
       " '    Entrega sem contato  ',\n",
       " '        Bixiga Pizzas e Massas         4,4(596)   ',\n",
       " '           ',\n",
       " ' Pizza    ',\n",
       " ' Av. Carlos Gomes de Sá      ',\n",
       " ' Um pedacinho da Itália em Vitória      ',\n",
       " ' Fecha às 00:00      \\xa0       Refeição no local  ',\n",
       " '    Para viagem  ',\n",
       " '    Entrega  ',\n",
       " '        Grill Mania         4,4(360)   ',\n",
       " '           ',\n",
       " ' Churrasco    ',\n",
       " ' Av. Rosendo Serapião de Souza Filho, 629      ',\n",
       " ' Fecha às 00:00      \\xa0       Refeição no local  ',\n",
       " '    Para viagem  ',\n",
       " '    Entrega sem contato  ',\n",
       " '        King Kone Pizza-Bar         4,6(1.369)   ',\n",
       " '           ',\n",
       " ' Pizza    ',\n",
       " ' Edifício Portinari - Av. Anísio Fernandes Coelho, 1645      ',\n",
       " ' Cones de pizza em espaço descontraído      ',\n",
       " ' Fecha às 00:30      \\xa0       Refeição no local  ',\n",
       " '    Para viagem  ',\n",
       " '    Entrega sem contato  ',\n",
       " '          Mostrando resultados 1 - 20*\\xa0 Atualizar resultados quando o mapa for movido  ']"
      ]
     },
     "execution_count": 183,
     "metadata": {},
     "output_type": "execute_result"
    }
   ],
   "source": [
    "texto=soup.get_text()\n",
    "texto.strip()\n",
    "texto=texto.replace(\"$$\",'')\n",
    "texto=texto.split('·')\n",
    "texto"
   ]
  },
  {
   "cell_type": "code",
   "execution_count": 184,
   "id": "3983db74",
   "metadata": {},
   "outputs": [],
   "source": [
    "rest=[]\n",
    "horario=[]\n",
    "\n",
    "for i in range(0,len(texto)):\n",
    "    v=texto[i].find('(') \n",
    "    if v != -1 :\n",
    "       rest.append(texto[i])\n",
    "    v=texto[i].find(':')\n",
    "    if v != -1:\n",
    "        horario.append(texto[i])\n",
    "        "
   ]
  },
  {
   "cell_type": "code",
   "execution_count": 185,
   "id": "2c7d12ed",
   "metadata": {},
   "outputs": [
    {
     "data": {
      "text/plain": [
       "['    El Libertador         4,7(576)   ',\n",
       " '        Baruk         4,7(103)           ',\n",
       " '        Cia do Caranguejo         4,5(630)   ',\n",
       " '        Bixiga Pizzas e Massas         4,4(596)   ',\n",
       " '        Grill Mania         4,4(360)   ',\n",
       " '        King Kone Pizza-Bar         4,6(1.369)   ']"
      ]
     },
     "execution_count": 185,
     "metadata": {},
     "output_type": "execute_result"
    }
   ],
   "source": [
    "rest"
   ]
  },
  {
   "cell_type": "code",
   "execution_count": 186,
   "id": "dd1b91ce",
   "metadata": {},
   "outputs": [
    {
     "data": {
      "text/plain": [
       "[' Aberto até às 01:00      \\xa0       Refeição no local  ',\n",
       " ' Fecha às 00:00      \\xa0       Refeição no local  ',\n",
       " ' Fecha às 00:00      \\xa0       Refeição no local  ',\n",
       " ' Fecha às 00:00      \\xa0       Refeição no local  ',\n",
       " ' Fecha às 00:00      \\xa0       Refeição no local  ',\n",
       " ' Fecha às 00:30      \\xa0       Refeição no local  ']"
      ]
     },
     "execution_count": 186,
     "metadata": {},
     "output_type": "execute_result"
    }
   ],
   "source": [
    "horario"
   ]
  },
  {
   "cell_type": "code",
   "execution_count": null,
   "id": "d0f30d74",
   "metadata": {},
   "outputs": [],
   "source": [
    "a"
   ]
  },
  {
   "cell_type": "code",
   "execution_count": null,
   "id": "330afd66",
   "metadata": {},
   "outputs": [],
   "source": []
  },
  {
   "cell_type": "code",
   "execution_count": 197,
   "id": "a73439d0",
   "metadata": {},
   "outputs": [
    {
     "data": {
      "text/plain": [
       "b'{\"ola\":\"mundo\"}\\n'"
      ]
     },
     "execution_count": 197,
     "metadata": {},
     "output_type": "execute_result"
    }
   ],
   "source": [
    "import requests\n",
    "\n",
    "\n",
    "request = requests.get(\"http://127.0.0.1:5000/olamund\")\n",
    "request.content"
   ]
  },
  {
   "cell_type": "code",
   "execution_count": 198,
   "id": "ec780292",
   "metadata": {},
   "outputs": [
    {
     "name": "stdout",
     "output_type": "stream",
     "text": [
      "b'{\"ola\":\"mundo\"}\\n'\n"
     ]
    }
   ],
   "source": [
    "buscar_dados()"
   ]
  },
  {
   "cell_type": "code",
   "execution_count": null,
   "id": "2edb9948",
   "metadata": {},
   "outputs": [],
   "source": [
    "def gasd():\n",
    "    oi = 'oi'\n",
    "    return oi\n",
    "\n",
    "def"
   ]
  }
 ],
 "metadata": {
  "kernelspec": {
   "display_name": "Python 3",
   "language": "python",
   "name": "python3"
  },
  "language_info": {
   "codemirror_mode": {
    "name": "ipython",
    "version": 3
   },
   "file_extension": ".py",
   "mimetype": "text/x-python",
   "name": "python",
   "nbconvert_exporter": "python",
   "pygments_lexer": "ipython3",
   "version": "3.8.8"
  }
 },
 "nbformat": 4,
 "nbformat_minor": 5
}
